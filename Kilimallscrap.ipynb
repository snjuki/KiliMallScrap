{
 "cells": [
  {
   "cell_type": "code",
   "execution_count": null,
   "id": "2e8f8553",
   "metadata": {},
   "outputs": [],
   "source": [
    "#initial scrapping\n",
    "import requests\n",
    "from bs4 import BeautifulSoup\n",
    "import pandas as pd\n",
    "import time\n",
    "import numpy as np\n",
    "# Define base URL\n",
    "base_url = 'https://www.kilimall.co.ke/category/computer?id=100000357&form=category-hot&page='\n",
    "\n",
    "# Initialize an empty list to hold product data\n",
    "products = []\n",
    "\n",
    "# Loop through pages 1 to 126\n",
    "for page in range(1, 127):  # 127 because the range is exclusive of the end\n",
    "    # Construct the URL for the current page\n",
    "    url = base_url + str(page)\n",
    "    \n",
    "    # Fetch the page content\n",
    "    response = requests.get(url)\n",
    "    \n",
    "    # Check if the request was successful\n",
    "    if response.status_code != 200:\n",
    "        print(f\"Failed to retrieve page {page}\")\n",
    "        continue\n",
    "\n",
    "    # Parse the content with BeautifulSoup\n",
    "    soup = BeautifulSoup(response.content, 'html.parser')\n",
    "\n",
    "    # Find all ads on the page\n",
    "    ads = soup.find_all(\"div\", class_=\"inner-listing\")\n",
    "\n",
    "    # Extract details for each ad on the page\n",
    "    for ad in ads:\n",
    "        # Extract the necessary information with error handling\n",
    "        product_title = ad.find('p', class_='product-title').get_text(strip=True) if ad.find('p', class_='product-title') else 'N/A'\n",
    "        product_link = ad.find('a', href=True)['href'] if ad.find('a', href=True) else 'N/A'\n",
    "        product_price = ad.find('div', class_='product-price').get_text(strip=True) if ad.find('div', class_='product-price') else 'N/A'\n",
    "        image_tag = ad.find('img', data_src=True)\n",
    "        image_url = image_tag['data-src'] if image_tag else 'N/A'\n",
    "        reviews_count = ad.find('span', class_='reviews').get_text(strip=True) if ad.find('span', class_='reviews') else 'N/A'\n",
    "        dispatch_status = ad.find('span', class_='tag-name').get_text(strip=True) if ad.find('span', class_='tag-name') else 'N/A'\n",
    "        \n",
    "        # Append the extracted data to the products list as a dictionary\n",
    "        products.append({\n",
    "            'Product Title': product_title,\n",
    "            'Product Link': f\"https://www.kilimall.co.ke{product_link}\" if product_link != 'N/A' else 'N/A',\n",
    "            'Price': product_price,\n",
    "            'Image URL': image_url,\n",
    "            'Reviews Count': reviews_count,\n",
    "            'Dispatch Status': dispatch_status\n",
    "        })\n",
    "\n",
    "    # Optional: Add a short delay to avoid overloading the server\n",
    "    time.sleep(1)\n",
    "\n",
    "    # Print progress\n",
    "    print(f\"Page {page} processed\")\n",
    "\n",
    "# Create a DataFrame from the list of dictionaries\n",
    "df = pd.DataFrame(products)\n",
    "\n",
    "# Display the DataFrame or save it to a CSV\n",
    "df\n",
    "# df.to_csv('kilimall_products.csv', index=False)  # Uncomment to save as CSV\n"
   ]
  },
  {
   "cell_type": "code",
   "execution_count": null,
   "id": "b81306bf",
   "metadata": {},
   "outputs": [],
   "source": [
    "#Remove all the non-numeric characters on the 'Price' column and convert it to integer\n",
    "df['Price'] = df['Price'].str.replace(r'\\D', '', regex=True).astype(int)\n"
   ]
  },
  {
   "cell_type": "code",
   "execution_count": null,
   "id": "603f82d4",
   "metadata": {},
   "outputs": [],
   "source": [
    "import numpy as np\n",
    "\n",
    "# Define conditions for processor types in 'Product Title' column\n",
    "conditions = [\n",
    "    (df['Product Title'].str.contains('i7', case=False, na=False)),\n",
    "    (df['Product Title'].str.contains('i5', case=False, na=False)),\n",
    "    (df['Product Title'].str.contains('i3', case=False, na=False)),\n",
    "    (df['Product Title'].str.contains('Core 2 Duo', case=False, na=False)),\n",
    "    (df['Product Title'].str.contains('Duo Core|Dual Core', case=False, na=False)),\n",
    "    (df['Product Title'].str.contains('Pentium 6', case=False, na=False)),\n",
    "    (df['Product Title'].str.contains('Pentium', case=False, na=False)),\n",
    "    (df['Product Title'].str.contains('Celeron|YOGA', case=False, na=False)),\n",
    "    (df['Product Title'].str.contains('Intel AMD 2ND GEN', case=False, na=False)),\n",
    "    (df['Product Title'].str.contains('Macbook Air', case=False, na=False))  # New condition for Macbook Air\n",
    "]\n",
    "\n",
    "# Define corresponding values for each condition, ensuring 'Macbook Air' maps to 'i5'\n",
    "values = ['i7', 'i5', 'i3', 'Core 2 Duo', 'Duo Core', 'Pentium 6', 'Pentium', 'Celeron', 'AMD Ryzen', 'i5']\n",
    "\n",
    "# Create the 'Processor' column with np.select, defaulting to None if no match is found\n",
    "df['Processor'] = np.select(conditions, values, default=None)\n",
    "\n",
    "# Verify the column creation\n",
    "print(df[['Product Title', 'Processor']].head())  # Displaying first few rows for verification\n",
    "\n",
    "\n"
   ]
  },
  {
   "cell_type": "code",
   "execution_count": null,
   "id": "31a22fbb",
   "metadata": {},
   "outputs": [],
   "source": [
    "\n",
    "\n",
    "# updated more rows for 'Processor' field\n",
    "conditions = [\n",
    "    (df['Product Title'].str.contains('Lenovo ThinkCenter 10B1', case=False, na=False)),\n",
    "    (df['Product Title'].str.contains('Macbook', case=False, na=False)),\n",
    "    (df['Product Title'].str.contains('i3', case=False, na=False)),\n",
    "    (df['Product Title'].str.contains('Core 2 Duo', case=False, na=False)),\n",
    "    (df['Product Title'].str.contains('Duo Core|Dual Core', case=False, na=False)),\n",
    "    (df['Product Title'].str.contains('Pentium 6', case=False, na=False)),\n",
    "    (df['Product Title'].str.contains('Pentium', case=False, na=False)),\n",
    "    (df['Product Title'].str.contains('Celeron|Lenovo X131E', case=False, na=False)),\n",
    "    (df['Product Title'].str.contains('RYZEN', case=False, na=False)),\n",
    "    (df['Product Title'].str.contains('Macbook Air', case=False, na=False) & df['Product Title'].str.contains('M2', case=False, na=False)),  # Macbook Air with M2\n",
    "    (df['Product Title'].str.contains('Macbook Air', case=False, na=False) & df['Product Title'].str.contains('M1', case=False, na=False)),  # Macbook Air with M1\n",
    "    (df['Product Title'].str.contains('Macbook', case=False, na=False) & df['Product Title'].str.contains('M2', case=False, na=False)),  # Macbook with M2\n",
    "    (df['Product Title'].str.contains('Macbook', case=False, na=False) & df['Product Title'].str.contains('M1', case=False, na=False))   # Macbook with M1\n",
    "]\n",
    "\n",
    "# Define corresponding values for each condition\n",
    "values = ['i3', 'Apple M1 or M2 chip', 'i3', 'Core 2 Duo', 'Duo Core', 'Pentium 6', 'Pentium', 'Celeron', 'AMD Ryzen', \n",
    "          'Apple M2 chip', 'Apple M1 chip', 'Apple M2 chip', 'Apple M1 chip']\n",
    "\n",
    "\n",
    "\n"
   ]
  },
  {
   "cell_type": "code",
   "execution_count": null,
   "id": "bdadba25",
   "metadata": {},
   "outputs": [],
   "source": [
    "# Remove rows where 'Product Title' contains 'tablet' or phone\n",
    "df = df[~df['Product Title'].str.contains('Tablet', case=False, na=False)]\n",
    "df = df[~df['Product Title'].str.contains('Phone', case=False, na=False)]\n",
    "df = df[~df['Product Title'].str.contains('Android', case=False, na=False)]\n",
    "df = df[~df['Product Title'].str.contains('Tab', case=False, na=False)]\n",
    "\n"
   ]
  },
  {
   "cell_type": "code",
   "execution_count": null,
   "id": "59dd3489",
   "metadata": {},
   "outputs": [],
   "source": [
    "# Create a new 'Storage' column, setting it to 'SSD' if 'Product Title' contains 'MacBook'\n",
    "df['Storage'] = np.where(df['Product Title'].str.contains('MacBook', case=False, na=False), 'SSD', None)\n",
    "\n",
    "# Verify the column creation\n",
    "print(df[['Product Title', 'Storage']].head())  # Displaying first few rows for verification\n"
   ]
  },
  {
   "cell_type": "code",
   "execution_count": null,
   "id": "af7d4d05",
   "metadata": {},
   "outputs": [],
   "source": [
    "df['Storage'] = np.where(df['Product Title'].str.contains('SSD', case=False, na=False), 'SSD', df['Storage'])\n"
   ]
  },
  {
   "cell_type": "code",
   "execution_count": null,
   "id": "8561b465",
   "metadata": {},
   "outputs": [],
   "source": [
    "#Storage Type\n",
    "\n",
    "# Create 'Storage' column, assigning 'SSD' if 'Product Title' contains 'MacBook' or 'SSD'\n",
    "df['Storage'] = np.where(\n",
    "    df['Product Title'].str.contains('MacBook', case=False, na=False) | \n",
    "    df['Product Title'].str.contains('SSD', case=False, na=False),\n",
    "    'SSD', None)\n",
    "\n",
    "# S Update 'Storage' to 'HDD' for rows where 'Storage' is still None\n",
    "df['Storage'] = np.where(df['Storage'].isna(), 'HDD', df['Storage'])\n",
    "\n",
    "\n"
   ]
  },
  {
   "cell_type": "code",
   "execution_count": null,
   "id": "490c7455",
   "metadata": {},
   "outputs": [],
   "source": [
    "#Remove all the non-numeric characters on the 'Reviews Count' column and convert it to integer\n",
    "df['Reviews Count'] = df['Reviews Count'].str.replace(r'\\D', '', regex=True).astype(int)"
   ]
  },
  {
   "cell_type": "code",
   "execution_count": null,
   "id": "37fa4b72",
   "metadata": {},
   "outputs": [],
   "source": [
    "#Upload the Dataframe into kilimall_products.xlsx excel file\n",
    "df=pd.read_excel('kilimall_products.xlsx')"
   ]
  }
 ],
 "metadata": {
  "kernelspec": {
   "display_name": "Python 3 (ipykernel)",
   "language": "python",
   "name": "python3"
  },
  "language_info": {
   "codemirror_mode": {
    "name": "ipython",
    "version": 3
   },
   "file_extension": ".py",
   "mimetype": "text/x-python",
   "name": "python",
   "nbconvert_exporter": "python",
   "pygments_lexer": "ipython3",
   "version": "3.9.13"
  }
 },
 "nbformat": 4,
 "nbformat_minor": 5
}
